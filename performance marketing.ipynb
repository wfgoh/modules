{
 "cells": [
  {
   "cell_type": "markdown",
   "id": "69a2e4b7-7970-4a70-b5c9-6600289dd099",
   "metadata": {},
   "source": [
    "# Background\n",
    "The goal is to build a propensity model to predict whether a user would convert (i.e., make a transaction) and explore potential use cases for this model. <br>\n",
    "There are a few applications where this model can be applied within the Google Marketing Platform: <br>\n",
    "\n",
    "In Google Ads: <br>\n",
    "Spend Optimization: Once users with a higher likelihood of purchasing are identified, you can adjust bids to target them more effectively, optimize email campaigns, or show targeted video ads. <br>\n",
    "\n",
    "Budget Optimization: Segment users based on their likelihood of purchasing, from high to low, and allocate the budget equally or based on weight to prioritize top users. <br>\n",
    "\n",
    "Hybrid Approach: By combining the both strategies, you can target high-likelihood users, adjust your strategy, and retarget them if they fail to make a purchase."
   ]
  },
  {
   "cell_type": "code",
   "execution_count": 1,
   "id": "7178cb42-e473-43cc-a3fa-5eafa92540df",
   "metadata": {},
   "outputs": [],
   "source": [
    "import pandas as pd\n",
    "import numpy as np\n",
    "import matplotlib.pyplot as plt\n",
    "from sklearn.ensemble import RandomForestClassifier\n",
    "from sklearn.model_selection import train_test_split\n",
    "from sklearn.metrics import precision_score, recall_score, precision_recall_curve, f1_score, auc\n",
    "from imblearn.over_sampling import SMOTE\n",
    "from collections import Counter"
   ]
  },
  {
   "cell_type": "code",
   "execution_count": 2,
   "id": "6f91ce24-fbb0-4a39-9374-60f10be56fb5",
   "metadata": {},
   "outputs": [
    {
     "name": "stderr",
     "output_type": "stream",
     "text": [
      "/var/folders/7c/mfqq4zhj689c1qp7hsyy9_yc0000gq/T/ipykernel_13350/4264572361.py:1: DtypeWarning: Columns (0) have mixed types. Specify dtype option on import or set low_memory=False.\n",
      "  df = pd.read_csv('2024 ga_merchandise_data.csv')\n"
     ]
    }
   ],
   "source": [
    "df = pd.read_csv('2024 ga_merchandise_data.csv')"
   ]
  },
  {
   "cell_type": "markdown",
   "id": "51e83b41-df18-42de-bd69-91635a545666",
   "metadata": {},
   "source": [
    "# EDA"
   ]
  },
  {
   "cell_type": "code",
   "execution_count": 3,
   "id": "5e19c97b-f8ee-4beb-be7d-92c24e386949",
   "metadata": {},
   "outputs": [
    {
     "data": {
      "text/html": [
       "<div>\n",
       "<style scoped>\n",
       "    .dataframe tbody tr th:only-of-type {\n",
       "        vertical-align: middle;\n",
       "    }\n",
       "\n",
       "    .dataframe tbody tr th {\n",
       "        vertical-align: top;\n",
       "    }\n",
       "\n",
       "    .dataframe thead th {\n",
       "        text-align: right;\n",
       "    }\n",
       "</style>\n",
       "<table border=\"1\" class=\"dataframe\">\n",
       "  <thead>\n",
       "    <tr style=\"text-align: right;\">\n",
       "      <th></th>\n",
       "      <th>userId</th>\n",
       "      <th>sessId</th>\n",
       "      <th>newVisitor</th>\n",
       "      <th>visitStartTime</th>\n",
       "      <th>weekday</th>\n",
       "      <th>hour</th>\n",
       "      <th>medium</th>\n",
       "      <th>source</th>\n",
       "      <th>device</th>\n",
       "      <th>browser</th>\n",
       "      <th>country</th>\n",
       "      <th>region</th>\n",
       "      <th>transaction</th>\n",
       "      <th>sessionNumber</th>\n",
       "      <th>landingPage</th>\n",
       "      <th>hitTimeLP</th>\n",
       "      <th>secondPage</th>\n",
       "      <th>hitsTimeSecondPage</th>\n",
       "      <th>thirdPage</th>\n",
       "      <th>hitsTimeThirdPage</th>\n",
       "    </tr>\n",
       "  </thead>\n",
       "  <tbody>\n",
       "    <tr>\n",
       "      <th>0</th>\n",
       "      <td>597428161780601322</td>\n",
       "      <td>5974281617806013221499254204</td>\n",
       "      <td>1</td>\n",
       "      <td>1499254204</td>\n",
       "      <td>4</td>\n",
       "      <td>11</td>\n",
       "      <td>(none)</td>\n",
       "      <td>(direct)</td>\n",
       "      <td>desktop</td>\n",
       "      <td>Chrome</td>\n",
       "      <td>United States</td>\n",
       "      <td>(not set)</td>\n",
       "      <td>0</td>\n",
       "      <td>1</td>\n",
       "      <td>/home</td>\n",
       "      <td>0</td>\n",
       "      <td>NaN</td>\n",
       "      <td>NaN</td>\n",
       "      <td>NaN</td>\n",
       "      <td>NaN</td>\n",
       "    </tr>\n",
       "    <tr>\n",
       "      <th>1</th>\n",
       "      <td>3628962163705457151</td>\n",
       "      <td>36289621637054571511499249384</td>\n",
       "      <td>0</td>\n",
       "      <td>1499249384</td>\n",
       "      <td>4</td>\n",
       "      <td>10</td>\n",
       "      <td>(none)</td>\n",
       "      <td>(direct)</td>\n",
       "      <td>desktop</td>\n",
       "      <td>Chrome</td>\n",
       "      <td>India</td>\n",
       "      <td>Karnataka</td>\n",
       "      <td>0</td>\n",
       "      <td>2</td>\n",
       "      <td>/home</td>\n",
       "      <td>0</td>\n",
       "      <td>NaN</td>\n",
       "      <td>NaN</td>\n",
       "      <td>NaN</td>\n",
       "      <td>NaN</td>\n",
       "    </tr>\n",
       "    <tr>\n",
       "      <th>2</th>\n",
       "      <td>6756599983264562215</td>\n",
       "      <td>67565999832645622151499292254</td>\n",
       "      <td>1</td>\n",
       "      <td>1499292254</td>\n",
       "      <td>4</td>\n",
       "      <td>22</td>\n",
       "      <td>(none)</td>\n",
       "      <td>(direct)</td>\n",
       "      <td>desktop</td>\n",
       "      <td>Chrome</td>\n",
       "      <td>United States</td>\n",
       "      <td>New York</td>\n",
       "      <td>0</td>\n",
       "      <td>1</td>\n",
       "      <td>/home</td>\n",
       "      <td>0</td>\n",
       "      <td>NaN</td>\n",
       "      <td>NaN</td>\n",
       "      <td>NaN</td>\n",
       "      <td>NaN</td>\n",
       "    </tr>\n",
       "    <tr>\n",
       "      <th>3</th>\n",
       "      <td>3118856184184674024</td>\n",
       "      <td>31188561841846740241499241008</td>\n",
       "      <td>1</td>\n",
       "      <td>1499241008</td>\n",
       "      <td>4</td>\n",
       "      <td>7</td>\n",
       "      <td>(none)</td>\n",
       "      <td>(direct)</td>\n",
       "      <td>desktop</td>\n",
       "      <td>Chrome</td>\n",
       "      <td>South Korea</td>\n",
       "      <td>Seoul</td>\n",
       "      <td>0</td>\n",
       "      <td>1</td>\n",
       "      <td>/home</td>\n",
       "      <td>0</td>\n",
       "      <td>NaN</td>\n",
       "      <td>NaN</td>\n",
       "      <td>NaN</td>\n",
       "      <td>NaN</td>\n",
       "    </tr>\n",
       "    <tr>\n",
       "      <th>4</th>\n",
       "      <td>2953158165249101834</td>\n",
       "      <td>29531581652491018341499323305</td>\n",
       "      <td>1</td>\n",
       "      <td>1499323305</td>\n",
       "      <td>5</td>\n",
       "      <td>6</td>\n",
       "      <td>(none)</td>\n",
       "      <td>(direct)</td>\n",
       "      <td>mobile</td>\n",
       "      <td>Safari</td>\n",
       "      <td>Spain</td>\n",
       "      <td>Community of Madrid</td>\n",
       "      <td>0</td>\n",
       "      <td>1</td>\n",
       "      <td>/home</td>\n",
       "      <td>0</td>\n",
       "      <td>NaN</td>\n",
       "      <td>NaN</td>\n",
       "      <td>NaN</td>\n",
       "      <td>NaN</td>\n",
       "    </tr>\n",
       "    <tr>\n",
       "      <th>...</th>\n",
       "      <td>...</td>\n",
       "      <td>...</td>\n",
       "      <td>...</td>\n",
       "      <td>...</td>\n",
       "      <td>...</td>\n",
       "      <td>...</td>\n",
       "      <td>...</td>\n",
       "      <td>...</td>\n",
       "      <td>...</td>\n",
       "      <td>...</td>\n",
       "      <td>...</td>\n",
       "      <td>...</td>\n",
       "      <td>...</td>\n",
       "      <td>...</td>\n",
       "      <td>...</td>\n",
       "      <td>...</td>\n",
       "      <td>...</td>\n",
       "      <td>...</td>\n",
       "      <td>...</td>\n",
       "      <td>...</td>\n",
       "    </tr>\n",
       "    <tr>\n",
       "      <th>71791</th>\n",
       "      <td>419328391814636587</td>\n",
       "      <td>4193283918146365871500545743</td>\n",
       "      <td>0</td>\n",
       "      <td>1500545743</td>\n",
       "      <td>5</td>\n",
       "      <td>10</td>\n",
       "      <td>affiliate</td>\n",
       "      <td>Partners</td>\n",
       "      <td>desktop</td>\n",
       "      <td>Chrome</td>\n",
       "      <td>Germany</td>\n",
       "      <td>not available in demo dataset</td>\n",
       "      <td>0</td>\n",
       "      <td>7</td>\n",
       "      <td>/google+redesign/office/notebooks+journals/rec...</td>\n",
       "      <td>0</td>\n",
       "      <td>/google+redesign/office/notebooks++journals</td>\n",
       "      <td>186.0</td>\n",
       "      <td>/google+redesign/office/notebooks+journals/goo...</td>\n",
       "      <td>870.0</td>\n",
       "    </tr>\n",
       "    <tr>\n",
       "      <th>71792</th>\n",
       "      <td>2508022275197946724</td>\n",
       "      <td>25080222751979467241500535907</td>\n",
       "      <td>1</td>\n",
       "      <td>1500535907</td>\n",
       "      <td>5</td>\n",
       "      <td>7</td>\n",
       "      <td>organic</td>\n",
       "      <td>google</td>\n",
       "      <td>mobile</td>\n",
       "      <td>Chrome</td>\n",
       "      <td>United Kingdom</td>\n",
       "      <td>England</td>\n",
       "      <td>0</td>\n",
       "      <td>1</td>\n",
       "      <td>/google+redesign/apparel/mens/mens+t+shirts</td>\n",
       "      <td>0</td>\n",
       "      <td>/google+redesign/apparel</td>\n",
       "      <td>47979.0</td>\n",
       "      <td>/asearch.html</td>\n",
       "      <td>55619.0</td>\n",
       "    </tr>\n",
       "    <tr>\n",
       "      <th>71793</th>\n",
       "      <td>419328391814636587</td>\n",
       "      <td>4193283918146365871500566275</td>\n",
       "      <td>0</td>\n",
       "      <td>1500566275</td>\n",
       "      <td>5</td>\n",
       "      <td>15</td>\n",
       "      <td>affiliate</td>\n",
       "      <td>Partners</td>\n",
       "      <td>desktop</td>\n",
       "      <td>Chrome</td>\n",
       "      <td>Germany</td>\n",
       "      <td>not available in demo dataset</td>\n",
       "      <td>0</td>\n",
       "      <td>8</td>\n",
       "      <td>/google+redesign/office/notebooks+journals/rec...</td>\n",
       "      <td>0</td>\n",
       "      <td>/google+redesign/office/notebooks++journals</td>\n",
       "      <td>9528.0</td>\n",
       "      <td>/google+redesign/office/notebooks+journals/goo...</td>\n",
       "      <td>15268.0</td>\n",
       "    </tr>\n",
       "    <tr>\n",
       "      <th>71794</th>\n",
       "      <td>8591019421100663174</td>\n",
       "      <td>85910194211006631741500565344</td>\n",
       "      <td>1</td>\n",
       "      <td>1500565344</td>\n",
       "      <td>5</td>\n",
       "      <td>15</td>\n",
       "      <td>organic</td>\n",
       "      <td>google</td>\n",
       "      <td>desktop</td>\n",
       "      <td>Chrome</td>\n",
       "      <td>United States</td>\n",
       "      <td>not available in demo dataset</td>\n",
       "      <td>0</td>\n",
       "      <td>1</td>\n",
       "      <td>/google+redesign/apparel/mens/mens+t+shirts</td>\n",
       "      <td>0</td>\n",
       "      <td>/google+redesign/apparel/mens/mens+performance...</td>\n",
       "      <td>95498.0</td>\n",
       "      <td>/google+redesign/apparel/headgear</td>\n",
       "      <td>126666.0</td>\n",
       "    </tr>\n",
       "    <tr>\n",
       "      <th>71795</th>\n",
       "      <td>6308841914259670279</td>\n",
       "      <td>63088419142596702791500545968</td>\n",
       "      <td>1</td>\n",
       "      <td>1500545968</td>\n",
       "      <td>5</td>\n",
       "      <td>10</td>\n",
       "      <td>referral</td>\n",
       "      <td>youtube.com</td>\n",
       "      <td>desktop</td>\n",
       "      <td>Safari</td>\n",
       "      <td>United States</td>\n",
       "      <td>California</td>\n",
       "      <td>0</td>\n",
       "      <td>1</td>\n",
       "      <td>/google+redesign/shop+by+brand/youtube</td>\n",
       "      <td>0</td>\n",
       "      <td>/google+redesign/accessories/fun</td>\n",
       "      <td>14899.0</td>\n",
       "      <td>/google+redesign/apparel/mens</td>\n",
       "      <td>34219.0</td>\n",
       "    </tr>\n",
       "  </tbody>\n",
       "</table>\n",
       "<p>71796 rows × 20 columns</p>\n",
       "</div>"
      ],
      "text/plain": [
       "                    userId                         sessId  newVisitor  \\\n",
       "0       597428161780601322   5974281617806013221499254204           1   \n",
       "1      3628962163705457151  36289621637054571511499249384           0   \n",
       "2      6756599983264562215  67565999832645622151499292254           1   \n",
       "3      3118856184184674024  31188561841846740241499241008           1   \n",
       "4      2953158165249101834  29531581652491018341499323305           1   \n",
       "...                    ...                            ...         ...   \n",
       "71791   419328391814636587   4193283918146365871500545743           0   \n",
       "71792  2508022275197946724  25080222751979467241500535907           1   \n",
       "71793   419328391814636587   4193283918146365871500566275           0   \n",
       "71794  8591019421100663174  85910194211006631741500565344           1   \n",
       "71795  6308841914259670279  63088419142596702791500545968           1   \n",
       "\n",
       "       visitStartTime  weekday  hour     medium       source   device browser  \\\n",
       "0          1499254204        4    11     (none)     (direct)  desktop  Chrome   \n",
       "1          1499249384        4    10     (none)     (direct)  desktop  Chrome   \n",
       "2          1499292254        4    22     (none)     (direct)  desktop  Chrome   \n",
       "3          1499241008        4     7     (none)     (direct)  desktop  Chrome   \n",
       "4          1499323305        5     6     (none)     (direct)   mobile  Safari   \n",
       "...               ...      ...   ...        ...          ...      ...     ...   \n",
       "71791      1500545743        5    10  affiliate     Partners  desktop  Chrome   \n",
       "71792      1500535907        5     7    organic       google   mobile  Chrome   \n",
       "71793      1500566275        5    15  affiliate     Partners  desktop  Chrome   \n",
       "71794      1500565344        5    15    organic       google  desktop  Chrome   \n",
       "71795      1500545968        5    10   referral  youtube.com  desktop  Safari   \n",
       "\n",
       "              country                         region  transaction  \\\n",
       "0       United States                      (not set)            0   \n",
       "1               India                      Karnataka            0   \n",
       "2       United States                       New York            0   \n",
       "3         South Korea                          Seoul            0   \n",
       "4               Spain            Community of Madrid            0   \n",
       "...               ...                            ...          ...   \n",
       "71791         Germany  not available in demo dataset            0   \n",
       "71792  United Kingdom                        England            0   \n",
       "71793         Germany  not available in demo dataset            0   \n",
       "71794   United States  not available in demo dataset            0   \n",
       "71795   United States                     California            0   \n",
       "\n",
       "       sessionNumber                                        landingPage  \\\n",
       "0                  1                                              /home   \n",
       "1                  2                                              /home   \n",
       "2                  1                                              /home   \n",
       "3                  1                                              /home   \n",
       "4                  1                                              /home   \n",
       "...              ...                                                ...   \n",
       "71791              7  /google+redesign/office/notebooks+journals/rec...   \n",
       "71792              1        /google+redesign/apparel/mens/mens+t+shirts   \n",
       "71793              8  /google+redesign/office/notebooks+journals/rec...   \n",
       "71794              1        /google+redesign/apparel/mens/mens+t+shirts   \n",
       "71795              1             /google+redesign/shop+by+brand/youtube   \n",
       "\n",
       "       hitTimeLP                                         secondPage  \\\n",
       "0              0                                                NaN   \n",
       "1              0                                                NaN   \n",
       "2              0                                                NaN   \n",
       "3              0                                                NaN   \n",
       "4              0                                                NaN   \n",
       "...          ...                                                ...   \n",
       "71791          0        /google+redesign/office/notebooks++journals   \n",
       "71792          0                           /google+redesign/apparel   \n",
       "71793          0        /google+redesign/office/notebooks++journals   \n",
       "71794          0  /google+redesign/apparel/mens/mens+performance...   \n",
       "71795          0                   /google+redesign/accessories/fun   \n",
       "\n",
       "       hitsTimeSecondPage                                          thirdPage  \\\n",
       "0                     NaN                                                NaN   \n",
       "1                     NaN                                                NaN   \n",
       "2                     NaN                                                NaN   \n",
       "3                     NaN                                                NaN   \n",
       "4                     NaN                                                NaN   \n",
       "...                   ...                                                ...   \n",
       "71791               186.0  /google+redesign/office/notebooks+journals/goo...   \n",
       "71792             47979.0                                      /asearch.html   \n",
       "71793              9528.0  /google+redesign/office/notebooks+journals/goo...   \n",
       "71794             95498.0                  /google+redesign/apparel/headgear   \n",
       "71795             14899.0                      /google+redesign/apparel/mens   \n",
       "\n",
       "       hitsTimeThirdPage  \n",
       "0                    NaN  \n",
       "1                    NaN  \n",
       "2                    NaN  \n",
       "3                    NaN  \n",
       "4                    NaN  \n",
       "...                  ...  \n",
       "71791              870.0  \n",
       "71792            55619.0  \n",
       "71793            15268.0  \n",
       "71794           126666.0  \n",
       "71795            34219.0  \n",
       "\n",
       "[71796 rows x 20 columns]"
      ]
     },
     "execution_count": 3,
     "metadata": {},
     "output_type": "execute_result"
    }
   ],
   "source": [
    "df"
   ]
  },
  {
   "cell_type": "code",
   "execution_count": 4,
   "id": "ef21dfaf-28a9-4750-bef1-b627e6bdc541",
   "metadata": {},
   "outputs": [
    {
     "data": {
      "text/plain": [
       "userId                61561\n",
       "sessId                71692\n",
       "newVisitor                2\n",
       "visitStartTime        70562\n",
       "weekday                   7\n",
       "hour                     24\n",
       "medium                    7\n",
       "source                   97\n",
       "device                    3\n",
       "browser                  29\n",
       "country                 190\n",
       "region                  130\n",
       "transaction               2\n",
       "sessionNumber           179\n",
       "landingPage             437\n",
       "hitTimeLP               100\n",
       "secondPage              399\n",
       "hitsTimeSecondPage    26993\n",
       "thirdPage               406\n",
       "hitsTimeThirdPage     22876\n",
       "dtype: int64"
      ]
     },
     "execution_count": 4,
     "metadata": {},
     "output_type": "execute_result"
    }
   ],
   "source": [
    "df.nunique()"
   ]
  },
  {
   "cell_type": "code",
   "execution_count": 5,
   "id": "1afc6571-b122-4d4e-a968-b7e43e112558",
   "metadata": {},
   "outputs": [
    {
     "name": "stdout",
     "output_type": "stream",
     "text": [
      "<class 'pandas.core.frame.DataFrame'>\n",
      "RangeIndex: 71796 entries, 0 to 71795\n",
      "Data columns (total 20 columns):\n",
      " #   Column              Non-Null Count  Dtype  \n",
      "---  ------              --------------  -----  \n",
      " 0   userId              71796 non-null  object \n",
      " 1   sessId              71796 non-null  object \n",
      " 2   newVisitor          71796 non-null  int64  \n",
      " 3   visitStartTime      71796 non-null  int64  \n",
      " 4   weekday             71796 non-null  int64  \n",
      " 5   hour                71796 non-null  int64  \n",
      " 6   medium              71796 non-null  object \n",
      " 7   source              71796 non-null  object \n",
      " 8   device              71796 non-null  object \n",
      " 9   browser             71796 non-null  object \n",
      " 10  country             71796 non-null  object \n",
      " 11  region              71796 non-null  object \n",
      " 12  transaction         71796 non-null  int64  \n",
      " 13  sessionNumber       71796 non-null  int64  \n",
      " 14  landingPage         71796 non-null  object \n",
      " 15  hitTimeLP           71796 non-null  int64  \n",
      " 16  secondPage          35263 non-null  object \n",
      " 17  hitsTimeSecondPage  35263 non-null  float64\n",
      " 18  thirdPage           25227 non-null  object \n",
      " 19  hitsTimeThirdPage   25227 non-null  float64\n",
      "dtypes: float64(2), int64(7), object(11)\n",
      "memory usage: 11.0+ MB\n"
     ]
    }
   ],
   "source": [
    "df.info()"
   ]
  },
  {
   "cell_type": "code",
   "execution_count": 8,
   "id": "10ff497b-92f1-4ef9-8ddc-f4faabbd40c4",
   "metadata": {},
   "outputs": [
    {
     "data": {
      "text/plain": [
       "organic      36380\n",
       "None         19883\n",
       "referral     11049\n",
       "cpc           2009\n",
       "affiliate     1788\n",
       "cpm            687\n",
       "Name: medium, dtype: int64"
      ]
     },
     "execution_count": 8,
     "metadata": {},
     "output_type": "execute_result"
    }
   ],
   "source": [
    "df.medium.value_counts(dropna=False)"
   ]
  },
  {
   "cell_type": "code",
   "execution_count": 7,
   "id": "02d4f726-a9bc-42ca-a2b0-3563be9fc63c",
   "metadata": {},
   "outputs": [],
   "source": [
    "df.loc[df['medium'].isin(['(not set)','(none)']), 'medium'] = None # setting these as None"
   ]
  },
  {
   "cell_type": "code",
   "execution_count": 14,
   "id": "7dd3ee57-0f0a-48c0-9ff0-467ea98a6cf6",
   "metadata": {},
   "outputs": [
    {
     "data": {
      "text/plain": [
       "google       41328\n",
       "(direct)     19883\n",
       "youtube       6384\n",
       "Partners      1788\n",
       "facebook       929\n",
       "others         329\n",
       "dfa            302\n",
       "reddit         191\n",
       "qiita.com      146\n",
       "baidu          143\n",
       "quora.com      140\n",
       "yahoo          122\n",
       "bing           111\n",
       "Name: source, dtype: int64"
      ]
     },
     "execution_count": 14,
     "metadata": {},
     "output_type": "execute_result"
    }
   ],
   "source": [
    "df.source.value_counts()"
   ]
  },
  {
   "cell_type": "code",
   "execution_count": 13,
   "id": "639b634b-c869-42d8-aa11-58bda2b33a9b",
   "metadata": {},
   "outputs": [],
   "source": [
    "df.loc[df.source.str.contains('google'), 'source'] = 'google'\n",
    "df.loc[df.source.str.contains('yahoo'), 'source'] = 'yahoo'\n",
    "df.loc[df.source.str.contains('facebook'), 'source'] = 'facebook'\n",
    "df.loc[df.source.str.contains('youtube'), 'source'] = 'youtube'\n",
    "df.loc[df.source.str.contains('reddit'), 'source'] = 'reddit'\n",
    "df.loc[df.source.str.contains('baidu'), 'source'] = 'baidu'\n",
    "df.loc[df.source.isin(df.source.value_counts()[df.source.value_counts()<100].index), 'source'] = 'others' # grouping occurance less than 100 as others"
   ]
  },
  {
   "cell_type": "code",
   "execution_count": 15,
   "id": "b39da80f-08db-4558-848c-9a8088fe6ef1",
   "metadata": {},
   "outputs": [
    {
     "data": {
      "text/plain": [
       "desktop    45580\n",
       "mobile     23107\n",
       "tablet      3109\n",
       "Name: device, dtype: int64"
      ]
     },
     "execution_count": 15,
     "metadata": {},
     "output_type": "execute_result"
    }
   ],
   "source": [
    "df.device.value_counts()"
   ]
  },
  {
   "cell_type": "code",
   "execution_count": 19,
   "id": "98e1be84-aff8-4f50-8c82-b91a231e93c1",
   "metadata": {},
   "outputs": [
    {
     "data": {
      "text/plain": [
       "Chrome               49954\n",
       "Safari               13562\n",
       "Firefox               2770\n",
       "Internet Explorer     1526\n",
       "Edge                   994\n",
       "Android Webview        890\n",
       "Opera Mini             640\n",
       "Safari (in-app)        571\n",
       "Opera                  323\n",
       "others                 315\n",
       "UC Browser             251\n",
       "Name: browser, dtype: int64"
      ]
     },
     "execution_count": 19,
     "metadata": {},
     "output_type": "execute_result"
    }
   ],
   "source": [
    "df.browser.value_counts()"
   ]
  },
  {
   "cell_type": "code",
   "execution_count": 18,
   "id": "72088505-8277-4fde-bc7a-aa351fe70157",
   "metadata": {},
   "outputs": [],
   "source": [
    "# df.loc[df['browser']=='(not set)', 'browser'] = '0'\n",
    "df.loc[df.browser.isin(df.browser.value_counts()[(df.browser.value_counts()<100)].index), 'browser'] = 'others' # grouping occurance less than 100 as others"
   ]
  },
  {
   "cell_type": "markdown",
   "id": "c16504d6-db47-4b7e-a1e6-5d7117be5803",
   "metadata": {},
   "source": [
    "### Feature Engineering\n",
    "This the the only part where I used AI to generate some common categories based on the URLs to group the landing pages. (common practice in marketing) <br>\n",
    "I also created boolean features to capture whether a user visited the second and third pages."
   ]
  },
  {
   "cell_type": "code",
   "execution_count": 22,
   "id": "3e75a0cf-8bf2-4729-82d8-c420f2d7b29d",
   "metadata": {},
   "outputs": [],
   "source": [
    "categories = {\n",
    "    \"apparel\": [\"women\", \"wearables\", \"bags\", \"zip\", \"performance\", \"pullover\", \"cardigan\", \"t-shirt\", \"short sleeve\", \"blended\", \"hero\", \"vest\", \"jacket\", \"outerwear\", \"softshell\", \"long sleeve\", \"recycled fabric\", \"yoga jacket\", \"recycled tee\", \n",
    "                \"t-shirt\", \"short sleeve\", \"hero\", \"badge\", \"outerwear\", \"jacket\", \"pullover\", \"vest\", \"long sleeve\", \"quilted\", \"performance\", \"3x\", \"rain jacket\", \"hoodie\",\n",
    "                \"kids\", \"toddler\", \"short sleeve\", \"onesie\", \"infant\", \"youth\", \"hoodie\", \"raglan\", \"shirt\",\n",
    "                \"apparel\", \"outerwear\", \"t-shirts\", \"short sleeve\", \"long sleeve\", \"jacket\", \"performance\", \"hoodie\", \"v-neck\"],\n",
    "    \"electronics\": [\"accessories\", \"charger\", \"speaker\", \"bluetooth\", \"mouse\", \"flashlight\", \"selfie stick\", \"compact\", \"battery\", \"power\", \"plug\", \"earbuds\",\n",
    "                    \"nest\", \"thermostat\", \"protect\", \"learning thermostat\", \"google\", \"android\",\n",
    "                    \"micro charger\", \"pocket speaker\", \"rocket flashlight\", \"compact charger\"],\n",
    "    \"drinkware\": [\"drinkware\", \"water bottle\", \"bottle\", \"tumblers\", \"mugs\", \"insulated\", \"stainless steel\", \"tumbler\", \"sipper\", \"straw\",\n",
    "                  \"22 oz\", \"25 oz\", \"20 oz\", \"24 oz\", \"mug\", \"cookie monster mug\"],\n",
    "    \"office_supplies\": [\"office\", \"writing\", \"instruments\", \"notebooks\", \"journals\", \"pen\", \"ballpoint\", \"journal\", \"spiral\", \"leather journal\", \"writing\", \"notebooks\", \"pens\", \"stick pen\", \"pen pack\", \"matching case\",\n",
    "                        \"android spiral journal\", \"google spiral journal\", \"leather journal\", \"ballpoint pen\"],\n",
    "    \"lifestyle_items\": [\"accessories\", \"stickers\", \"umbrella\", \"lifestyle\", \"fun\", \"sports\", \"fitness\", \"pet\", \"sunglasses\", \"hand sanitizer\", \"collapsible bowl\", \"discs\", \"yoga mat\", \"kick ball\", \"safe flyer\",\n",
    "                        \"pet\", \"collapsible bowl\", \"feeding mat\"\n",
    "                        \"yoga mat\", \"fitness\", \"kick ball\", \"sunglasses\"],\n",
    "    \"gift_card\": [\"gift cards\", \"cards\", \"shopping\", \"bags\", \"luggage\", \"home\", \"housewares\", \"totes\",\n",
    "                  \"gift card\", \"shopping bag\", \"water bottles\", \"collapsible bag\", \"luggage tag\"]\n",
    "}"
   ]
  },
  {
   "cell_type": "code",
   "execution_count": 23,
   "id": "2f3fe7a7-e1b0-4544-ac2a-0bf9779c9156",
   "metadata": {},
   "outputs": [],
   "source": [
    "def categorize_landingpage(url, categories):\n",
    "    for key,vals in categories.items():\n",
    "        for v in vals:\n",
    "            if v in url:\n",
    "                return key\n",
    "    return None"
   ]
  },
  {
   "cell_type": "code",
   "execution_count": 24,
   "id": "db9b6f06-62c8-4a0e-ac7a-8b9732b0790c",
   "metadata": {},
   "outputs": [],
   "source": [
    "df['landing_categorized'] = df.landingPage.apply(lambda x: categorize_landingpage(x, categories))"
   ]
  },
  {
   "cell_type": "code",
   "execution_count": 25,
   "id": "83bd74d0-6a57-45a1-b2ff-78c0d1d08c3d",
   "metadata": {},
   "outputs": [
    {
     "data": {
      "text/plain": [
       "gift_card      35471\n",
       "electronics    23829\n",
       "apparel         9432\n",
       "None            3064\n",
       "Name: landing_categorized, dtype: int64"
      ]
     },
     "execution_count": 25,
     "metadata": {},
     "output_type": "execute_result"
    }
   ],
   "source": [
    "df['landing_categorized'].value_counts(dropna=False)"
   ]
  },
  {
   "cell_type": "code",
   "execution_count": 26,
   "id": "be591508-1f68-4d4c-8e16-f5a18dcdf694",
   "metadata": {},
   "outputs": [],
   "source": [
    "df['visitsecondpage'] = None\n",
    "df['visitthirdpage'] = None"
   ]
  },
  {
   "cell_type": "code",
   "execution_count": 27,
   "id": "2dc89d81-23bd-4380-83de-0411b93f85ed",
   "metadata": {},
   "outputs": [],
   "source": [
    "df.loc[df['hitsTimeSecondPage'].isna(), 'visitsecondpage'] = 0\n",
    "df.loc[df['hitsTimeSecondPage'].notna(), 'visitsecondpage'] = 1\n",
    "df.loc[df['hitsTimeThirdPage'].isna(), 'visitthirdpage'] = 0\n",
    "df.loc[df['hitsTimeThirdPage'].notna(), 'visitthirdpage'] = 1"
   ]
  },
  {
   "cell_type": "code",
   "execution_count": 28,
   "id": "960b879f-1be8-4775-92a4-3c59664d72cd",
   "metadata": {},
   "outputs": [
    {
     "data": {
      "text/plain": [
       "0    36533\n",
       "1    35263\n",
       "Name: visitsecondpage, dtype: int64"
      ]
     },
     "execution_count": 28,
     "metadata": {},
     "output_type": "execute_result"
    }
   ],
   "source": [
    "df['visitsecondpage'].value_counts(dropna=False)"
   ]
  },
  {
   "cell_type": "code",
   "execution_count": 29,
   "id": "4a5e8a71-08e0-4103-9e69-53d8aea270a8",
   "metadata": {},
   "outputs": [
    {
     "data": {
      "text/plain": [
       "0    46569\n",
       "1    25227\n",
       "Name: visitthirdpage, dtype: int64"
      ]
     },
     "execution_count": 29,
     "metadata": {},
     "output_type": "execute_result"
    }
   ],
   "source": [
    "df['visitthirdpage'].value_counts(dropna=False)"
   ]
  },
  {
   "cell_type": "markdown",
   "id": "ef3d3856-d6cb-4359-91f3-e3638f53ed27",
   "metadata": {},
   "source": [
    "### Encoding\n",
    "Two types of encodings are used. One hot (categories < 10) and target encodings (categories > 10)."
   ]
  },
  {
   "cell_type": "code",
   "execution_count": 30,
   "id": "e4209adc-7549-4d80-9d34-411d33463bc6",
   "metadata": {},
   "outputs": [],
   "source": [
    "df = pd.get_dummies(df, columns=['medium','device','landing_categorized'])"
   ]
  },
  {
   "cell_type": "code",
   "execution_count": 31,
   "id": "a86780f7-3aee-4278-b6de-74ee5a509395",
   "metadata": {},
   "outputs": [
    {
     "name": "stdout",
     "output_type": "stream",
     "text": [
      "<class 'pandas.core.frame.DataFrame'>\n",
      "RangeIndex: 71796 entries, 0 to 71795\n",
      "Data columns (total 31 columns):\n",
      " #   Column                           Non-Null Count  Dtype  \n",
      "---  ------                           --------------  -----  \n",
      " 0   userId                           71796 non-null  object \n",
      " 1   sessId                           71796 non-null  object \n",
      " 2   newVisitor                       71796 non-null  int64  \n",
      " 3   visitStartTime                   71796 non-null  int64  \n",
      " 4   weekday                          71796 non-null  int64  \n",
      " 5   hour                             71796 non-null  int64  \n",
      " 6   source                           71796 non-null  object \n",
      " 7   browser                          71796 non-null  object \n",
      " 8   country                          71796 non-null  object \n",
      " 9   region                           71796 non-null  object \n",
      " 10  transaction                      71796 non-null  int64  \n",
      " 11  sessionNumber                    71796 non-null  int64  \n",
      " 12  landingPage                      71796 non-null  object \n",
      " 13  hitTimeLP                        71796 non-null  int64  \n",
      " 14  secondPage                       35263 non-null  object \n",
      " 15  hitsTimeSecondPage               35263 non-null  float64\n",
      " 16  thirdPage                        25227 non-null  object \n",
      " 17  hitsTimeThirdPage                25227 non-null  float64\n",
      " 18  visitsecondpage                  71796 non-null  object \n",
      " 19  visitthirdpage                   71796 non-null  object \n",
      " 20  medium_affiliate                 71796 non-null  uint8  \n",
      " 21  medium_cpc                       71796 non-null  uint8  \n",
      " 22  medium_cpm                       71796 non-null  uint8  \n",
      " 23  medium_organic                   71796 non-null  uint8  \n",
      " 24  medium_referral                  71796 non-null  uint8  \n",
      " 25  device_desktop                   71796 non-null  uint8  \n",
      " 26  device_mobile                    71796 non-null  uint8  \n",
      " 27  device_tablet                    71796 non-null  uint8  \n",
      " 28  landing_categorized_apparel      71796 non-null  uint8  \n",
      " 29  landing_categorized_electronics  71796 non-null  uint8  \n",
      " 30  landing_categorized_gift_card    71796 non-null  uint8  \n",
      "dtypes: float64(2), int64(7), object(11), uint8(11)\n",
      "memory usage: 11.7+ MB\n"
     ]
    }
   ],
   "source": [
    "df.info()"
   ]
  },
  {
   "cell_type": "code",
   "execution_count": 33,
   "id": "677ad36f-77ac-4d35-8298-742f2be6959b",
   "metadata": {},
   "outputs": [],
   "source": [
    "for column in ['source','browser']:\n",
    "    target_mean_map = df.groupby(column)['transaction'].mean().to_dict()\n",
    "    df[f'{column}_encoded'] = df[column].apply(lambda x: target_mean_map[x])"
   ]
  },
  {
   "cell_type": "markdown",
   "id": "b3aac59e-dfb7-4d51-b105-4702957fdb30",
   "metadata": {},
   "source": [
    "# Modeling"
   ]
  },
  {
   "cell_type": "code",
   "execution_count": 35,
   "id": "3f211384-8265-4a01-8f7b-fe491a1e8435",
   "metadata": {},
   "outputs": [
    {
     "name": "stdout",
     "output_type": "stream",
     "text": [
      "<class 'pandas.core.frame.DataFrame'>\n",
      "RangeIndex: 71796 entries, 0 to 71795\n",
      "Data columns (total 20 columns):\n",
      " #   Column                           Non-Null Count  Dtype  \n",
      "---  ------                           --------------  -----  \n",
      " 0   newVisitor                       71796 non-null  int64  \n",
      " 1   weekday                          71796 non-null  int64  \n",
      " 2   hour                             71796 non-null  int64  \n",
      " 3   sessionNumber                    71796 non-null  int64  \n",
      " 4   hitTimeLP                        71796 non-null  int64  \n",
      " 5   visitsecondpage                  71796 non-null  object \n",
      " 6   visitthirdpage                   71796 non-null  object \n",
      " 7   source_encoded                   71796 non-null  float64\n",
      " 8   browser_encoded                  71796 non-null  float64\n",
      " 9   landing_categorized_apparel      71796 non-null  uint8  \n",
      " 10  landing_categorized_electronics  71796 non-null  uint8  \n",
      " 11  landing_categorized_gift_card    71796 non-null  uint8  \n",
      " 12  medium_affiliate                 71796 non-null  uint8  \n",
      " 13  medium_cpc                       71796 non-null  uint8  \n",
      " 14  medium_cpm                       71796 non-null  uint8  \n",
      " 15  medium_organic                   71796 non-null  uint8  \n",
      " 16  medium_referral                  71796 non-null  uint8  \n",
      " 17  device_desktop                   71796 non-null  uint8  \n",
      " 18  device_mobile                    71796 non-null  uint8  \n",
      " 19  device_tablet                    71796 non-null  uint8  \n",
      "dtypes: float64(2), int64(5), object(2), uint8(11)\n",
      "memory usage: 5.7+ MB\n"
     ]
    }
   ],
   "source": [
    "features = ['newVisitor', 'weekday', 'hour', 'sessionNumber', 'hitTimeLP', 'visitsecondpage', 'visitthirdpage', 'source_encoded', 'browser_encoded','landing_categorized_apparel', 'landing_categorized_electronics', 'landing_categorized_gift_card', 'medium_affiliate', 'medium_cpc', 'medium_cpm', 'medium_organic', 'medium_referral', 'device_desktop', 'device_mobile', 'device_tablet']\n",
    "target = 'transaction'\n",
    "df[features].info()"
   ]
  },
  {
   "cell_type": "code",
   "execution_count": 36,
   "id": "6ee3b31b-a26b-4ba7-a329-9925d7c2edd9",
   "metadata": {},
   "outputs": [],
   "source": [
    "X = df[features]\n",
    "y = df[target]"
   ]
  },
  {
   "cell_type": "code",
   "execution_count": 37,
   "id": "558819c6-40f6-4eef-ab7e-19bc5713a89c",
   "metadata": {},
   "outputs": [],
   "source": [
    "# Split data into train and test at 7:3 ratio\n",
    "X_train, X_test, y_train, y_test = train_test_split(X, y, test_size=0.3, random_state=0)"
   ]
  },
  {
   "cell_type": "code",
   "execution_count": 38,
   "id": "ac33f461-77f5-4d6c-9d16-f110ffcbc2ce",
   "metadata": {},
   "outputs": [
    {
     "name": "stdout",
     "output_type": "stream",
     "text": [
      "Before Counter({0: 49528, 1: 729})\n",
      "After Counter({0: 49528, 1: 49528})\n"
     ]
    }
   ],
   "source": [
    "# Oversampling with SMOTE\n",
    "counter = Counter(y_train)\n",
    "print('Before', counter)\n",
    "\n",
    "sm = SMOTE(k_neighbors=10, random_state=0)\n",
    "X_train_sm, y_train_sm = sm.fit_resample(X_train, y_train)\n",
    "\n",
    "counter = Counter(y_train_sm)\n",
    "print('After', counter)"
   ]
  },
  {
   "cell_type": "code",
   "execution_count": 44,
   "id": "b996dc4d-035c-4891-b2e3-aa0abbf54c95",
   "metadata": {},
   "outputs": [
    {
     "name": "stdout",
     "output_type": "stream",
     "text": [
      "train score\n",
      "precision 0.22635998539612998\n",
      "recall 0.850480109739369\n",
      "f1 score 0.3575547866205306\n",
      "auc 0.46186934973512456\n",
      "test score\n",
      "precision 0.08120649651972157\n",
      "recall 0.347682119205298\n",
      "f1 score 0.13166144200626959\n",
      "auc 0.10813481884096886\n"
     ]
    }
   ],
   "source": [
    "# Random Forest Classifier were used\n",
    "rf = RandomForestClassifier(n_estimators=100, random_state=0)\n",
    "rf.fit(X_train_sm, y_train_sm)\n",
    "\n",
    "y_train_pred = rf.predict(X_train)\n",
    "y_train_pred_score = rf.predict_proba(X_train)[:, 1]\n",
    "y_test_pred = rf.predict(X_test)\n",
    "y_test_pred_score = rf.predict_proba(X_test)[:, 1]\n",
    "\n",
    "print('train score')\n",
    "print('precision', precision_score(y_train, y_train_pred))\n",
    "print('recall', recall_score(y_train, y_train_pred))\n",
    "print('f1 score', f1_score(y_train, y_train_pred))\n",
    "precision_train, recall_train, thresholds_train = precision_recall_curve(y_train, y_train_pred_score)\n",
    "auc_score_train = auc(recall_train, precision_train)\n",
    "print('auc', auc_score_train)\n",
    "\n",
    "print('test score')\n",
    "print('precision', precision_score(y_test, y_test_pred))\n",
    "print('recall', recall_score(y_test, y_test_pred))\n",
    "print('f1 score', f1_score(y_test, y_test_pred))\n",
    "precision_test, recall_test, thresholds_test = precision_recall_curve(y_test, y_test_pred_score)\n",
    "auc_score_test = auc(recall_test, precision_test)\n",
    "print('auc', auc_score_test)"
   ]
  },
  {
   "cell_type": "code",
   "execution_count": 42,
   "id": "e22bb434-969f-489e-bb29-4297b3c1636f",
   "metadata": {},
   "outputs": [
    {
     "data": {
      "text/plain": [
       "0.0856269113149847"
      ]
     },
     "execution_count": 42,
     "metadata": {},
     "output_type": "execute_result"
    }
   ],
   "source": [
    "precision_score(y_test, y_test_pred_score>0.7)"
   ]
  },
  {
   "cell_type": "code",
   "execution_count": 43,
   "id": "ce208d63-4266-44e0-b44b-bb9c99695f95",
   "metadata": {},
   "outputs": [
    {
     "data": {
      "text/plain": [
       "0.4139072847682119"
      ]
     },
     "execution_count": 43,
     "metadata": {},
     "output_type": "execute_result"
    }
   ],
   "source": [
    "recall_score(y_test, y_test_pred_score>0.3)"
   ]
  },
  {
   "cell_type": "code",
   "execution_count": 45,
   "id": "3bd0303f-f424-4da5-ba7e-806c4433c1eb",
   "metadata": {},
   "outputs": [
    {
     "data": {
      "text/plain": [
       "<matplotlib.legend.Legend at 0x140b5d910>"
      ]
     },
     "execution_count": 45,
     "metadata": {},
     "output_type": "execute_result"
    },
    {
     "data": {
      "image/png": "[encoded data removed]",
      "text/plain": [
       "<Figure size 640x480 with 1 Axes>"
      ]
     },
     "metadata": {},
     "output_type": "display_data"
    }
   ],
   "source": [
    "plt.plot(recall_train, precision_train, label=f'Precision-Recall Curve (AUC = {auc_score_train:.2f})')\n",
    "plt.legend()"
   ]
  },
  {
   "cell_type": "code",
   "execution_count": 46,
   "id": "9f328bf9-7929-433f-a16e-22f23290118b",
   "metadata": {},
   "outputs": [
    {
     "data": {
      "text/plain": [
       "<matplotlib.legend.Legend at 0x14331e9d0>"
      ]
     },
     "execution_count": 46,
     "metadata": {},
     "output_type": "execute_result"
    },
    {
     "data": {
      "image/png": "[encoded data removed]",
      "text/plain": [
       "<Figure size 640x480 with 1 Axes>"
      ]
     },
     "metadata": {},
     "output_type": "display_data"
    }
   ],
   "source": [
    "baseline = y_test.value_counts(normalize=True)[1]\n",
    "plt.plot(recall_test, precision_test, label=f'Precision-Recall Curve (AUC = {auc_score_test:.2f}, baseline = {baseline:.2f})')\n",
    "plt.legend()"
   ]
  },
  {
   "cell_type": "markdown",
   "id": "c2bc5225-3350-4fef-8494-0e55ba0281b3",
   "metadata": {},
   "source": [
    "# Comments\n",
    "Overall, the training score is moderate, with higher recall but lower precision. This indicates that the model is over-predicting the positive (minority) class, even though SMOTE was applied to oversample the minority class and improve decision boundaries. <br>\n",
    "\n",
    "Steps I'd consider next: <br>\n",
    "\n",
    "1. Undersample the majority class or apply class weights to ensure the model accounts for the class imbalance during training.\n",
    "2. Generate more meaningful features, such as mapping countries to continents/GDP, or categorizing regions by income level, or further feature engineering second or third page visits, etc.\n",
    "3. Implement K-fold cross-validation or assess how the model responds to changes in data size, feature set, and model complexity.\n",
    "4. If the model overfits, apply techniques like gradient boosting or XGBoost to reduce variance."
   ]
  },
  {
   "cell_type": "code",
   "execution_count": null,
   "id": "26bb1c1f-8dae-4510-83b9-69adab10ae15",
   "metadata": {},
   "outputs": [],
   "source": []
  }
 ],
 "metadata": {
  "kernelspec": {
   "display_name": "Python 3 (ipykernel)",
   "language": "python",
   "name": "python3"
  },
  "language_info": {
   "codemirror_mode": {
    "name": "ipython",
    "version": 3
   },
   "file_extension": ".py",
   "mimetype": "text/x-python",
   "name": "python",
   "nbconvert_exporter": "python",
   "pygments_lexer": "ipython3",
   "version": "3.11.5"
  },
  "widgets": {
   "application/vnd.jupyter.widget-state+json": {
    "state": {},
    "version_major": 2,
    "version_minor": 0
   }
  }
 },
 "nbformat": 4,
 "nbformat_minor": 5
}
